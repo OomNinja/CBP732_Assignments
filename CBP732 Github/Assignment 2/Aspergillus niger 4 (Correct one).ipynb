{
 "cells": [
  {
   "cell_type": "markdown",
   "metadata": {},
   "source": [
    "# Assignment 2: Itaconic acid production (part 1)"
   ]
  },
  {
   "cell_type": "markdown",
   "metadata": {},
   "source": [
    "<img src=\"Ita_model.png\" width=\"800\" />"
   ]
  },
  {
   "cell_type": "markdown",
   "metadata": {},
   "source": [
    "Firstly, import all the necessary libraries:"
   ]
  },
  {
   "cell_type": "code",
   "execution_count": 79,
   "metadata": {
    "collapsed": true
   },
   "outputs": [],
   "source": [
    "import numpy as np\n",
    "from scipy.optimize import fsolve\n",
    "from scipy.integrate import odeint\n",
    "from matplotlib import pyplot as plt"
   ]
  },
  {
   "cell_type": "markdown",
   "metadata": {},
   "source": [
    "Now specify constants and known values. Beta is determined. CO$_{2}$ mass transfer coefficient is determined."
   ]
  },
  {
   "cell_type": "code",
   "execution_count": 80,
   "metadata": {
    "collapsed": true
   },
   "outputs": [],
   "source": [
    "alpha = 0.1\n",
    "gamma = 2.5\n",
    "mumax = 0.05\n",
    "thetamax = 0.05\n",
    "PO = 1.5\n",
    "\n",
    "Km = 0.001\n",
    "\n",
    "def beta(beta):\n",
    "    nul1 = (1 + alpha)*4 - ((4 + 1*1.8 - 2*0.5 - 3*0.2) + 2*beta)\n",
    "    return nul1\n",
    "beta = fsolve(beta, alpha)[0]\n",
    "\n",
    "tmax = 150\n",
    "cS0 = 20\n",
    "cX0 = 0.05\n",
    "\n",
    "kLa = 200 # 1/h\n",
    "cOsatmax = 7/1000/32  #mol/l"
   ]
  },
  {
   "cell_type": "markdown",
   "metadata": {},
   "source": [
    "The metabolic flux matrix is set up."
   ]
  },
  {
   "cell_type": "code",
   "execution_count": 81,
   "metadata": {
    "collapsed": true
   },
   "outputs": [],
   "source": [
    "Sflux = np.matrix([[-1, 1 + alpha, 1,   1,   0,    0,    0],\n",
    "                   [0,  0,         0,   -1,  3/2,  1.2,  0],\n",
    "                   [0,  beta,      2,   1/3, -1/2, 1/5,  -2],\n",
    "                   [0,  -gamma,    1/2, 1/3, 0,    -1/5, 2*PO]])\n",
    "#                   rS, rX,        r2,  r3,  rEt,  rIta, rO\n",
    "#                   r[0]r[1]                 r[4]  r[5]  r[6]\n",
    "Et_spec = [0, 0, 0, 0, 1, 0, 0]\n",
    "O_spec = [0, 0, 0, 0, 0, 0, 1]\n",
    "resp_spec = [0, 0, 1, 0, 0, 0, 0]\n",
    "Ita_spec = [0, 0, 0, 0, 0, 1, 0]\n",
    "mu_spec = [0, 1, 0, 0, 0, 0, 0]\n",
    "S_spec = [1, 0, 0, 0, 0, 0, 0]"
   ]
  },
  {
   "cell_type": "markdown",
   "metadata": {},
   "source": [
    "Specifications are chosen for the scenarios we are working with."
   ]
  },
  {
   "cell_type": "code",
   "execution_count": 82,
   "metadata": {
    "collapsed": true
   },
   "outputs": [],
   "source": [
    "S1 = np.vstack([Sflux, mu_spec, Et_spec, Ita_spec])\n",
    "S2 = np.vstack([Sflux, S_spec, Et_spec, O_spec])"
   ]
  },
  {
   "cell_type": "markdown",
   "metadata": {},
   "source": [
    "The rate function is written."
   ]
  },
  {
   "cell_type": "code",
   "execution_count": 83,
   "metadata": {
    "collapsed": true
   },
   "outputs": [],
   "source": [
    "def Meta(var):\n",
    "    cS, cX = var\n",
    "    \n",
    "    mu = mumax*(cS/(Km + cS))\n",
    "    theta = thetamax*(cS/(Km + cS))\n",
    "    \n",
    "    rOmt = kLa*cOsatmax\n",
    "    \n",
    "    C1 = np.array([0, 0, 0, theta, mu, 0, 0]).T\n",
    "    r1 = np.linalg.solve(S1, C1)\n",
    "    \n",
    "    lamb = r1[0]\n",
    "    \n",
    "    C2 = np.array([0, 0, 0, theta, lamb, 0, rOmt/cX]).T\n",
    "    r2 = np.linalg.solve(S2, C2)\n",
    "    \n",
    "    if rOmt > r1[6]*cX:\n",
    "        return r1\n",
    "    else:\n",
    "        return r2"
   ]
  },
  {
   "cell_type": "markdown",
   "metadata": {},
   "source": [
    "The fermenter function is written."
   ]
  },
  {
   "cell_type": "code",
   "execution_count": 84,
   "metadata": {
    "collapsed": true
   },
   "outputs": [],
   "source": [
    "def Batch(var, t):\n",
    "    cS, cX, cE, cI = var\n",
    "    \n",
    "    dcSdt = -Meta([cS, cX])[0]*cX\n",
    "    dcXdt = Meta([cS, cX])[1]*cX\n",
    "    dcEdt = Meta([cS, cX])[4]*cX\n",
    "    dcIdt = Meta([cS, cX])[5]*cX\n",
    "    \n",
    "    return [dcSdt, dcXdt, dcEdt, dcIdt]"
   ]
  },
  {
   "cell_type": "markdown",
   "metadata": {},
   "source": [
    "Integrated."
   ]
  },
  {
   "cell_type": "code",
   "execution_count": 85,
   "metadata": {
    "collapsed": true
   },
   "outputs": [],
   "source": [
    "tspan = np.linspace(0, tmax, 101)\n",
    "c_0 = np.array([cS0, cX0, 0, 0])\n",
    "c = odeint(Batch, c_0, tspan, mxstep=50000)\n",
    "cS = c[:,0]\n",
    "cX = c[:,1]\n",
    "cE = c[:,2]\n",
    "cI = c[:,3]"
   ]
  },
  {
   "cell_type": "markdown",
   "metadata": {},
   "source": [
    "Concentration profiles are plotted."
   ]
  },
  {
   "cell_type": "code",
   "execution_count": 86,
   "metadata": {},
   "outputs": [
    {
     "data": {
      "image/png": "[encoded data removed]",
      "text/plain": [
       "<matplotlib.figure.Figure at 0x1b5c1ccc400>"
      ]
     },
     "metadata": {},
     "output_type": "display_data"
    }
   ],
   "source": [
    "plt.figure(1)\n",
    "plt.plot(tspan, cS, 'b', label = 'cS')\n",
    "plt.plot(tspan, cX, 'k', label = 'cX')\n",
    "plt.plot(tspan, cE, 'g', label = 'cE')\n",
    "plt.plot(tspan, cI, 'r', label = 'cI')\n",
    "plt.legend(loc = 'best')\n",
    "plt.xlabel('time (h)')\n",
    "plt.ylabel('c_i (cmol_i/L)')\n",
    "plt.savefig('c_profile.png', dpi = 300)\n",
    "plt.show()"
   ]
  },
  {
   "cell_type": "markdown",
   "metadata": {},
   "source": [
    "Gas rates are determined."
   ]
  },
  {
   "cell_type": "code",
   "execution_count": 88,
   "metadata": {
    "collapsed": true
   },
   "outputs": [],
   "source": [
    "rOlist = []\n",
    "rClist = []\n",
    "mulist = []\n",
    "\n",
    "for i in range(len(cX)):\n",
    "    mu = mumax*(cS[i]/(Km + cS[i]))\n",
    "#     mulist.append(mu)\n",
    "    theta = thetamax*(cS[i]/(Km + cS[i]))\n",
    "    rOmt = kLa*cOsatmax\n",
    "    C1 = np.array([0, 0, 0, theta, mu, 0, 0]).T\n",
    "    r1 = np.linalg.solve(S1, C1)\n",
    "    rO1 = r1[6]*cX[i]\n",
    "    rC1 = (alpha*r1[1] + r1[2] + 1/2*r1[4] + 1/5*r1[5])*cX[i]\n",
    "    \n",
    "    lamb = r1[0]\n",
    "    \n",
    "    C2 = np.array([0, 0, 0, theta, lamb, 0, rOmt/cX[i]]).T\n",
    "    r2 = np.linalg.solve(S2, C2)\n",
    "    rO2 = r2[6]*cX[i]\n",
    "    rC2 = (alpha*r2[1] + r2[2] + 1/2*r2[4] + 1/5*r2[5])*cX[i]\n",
    "\n",
    "    if rOmt > r1[6]*cX[i]:\n",
    "        rOlist.append(rO1)\n",
    "        rClist.append(rC1)\n",
    "        mulist.append(r1[1])\n",
    "    else:\n",
    "        rOlist.append(rO2)\n",
    "        rClist.append(rC2)\n",
    "        mulist.append(r2[1])\n",
    "        \n",
    "rO = np.array(rOlist)\n",
    "rC = np.array(rClist)\n",
    "mu = np.array(mulist)"
   ]
  },
  {
   "cell_type": "markdown",
   "metadata": {},
   "source": [
    "Gas rates are plotted."
   ]
  },
  {
   "cell_type": "code",
   "execution_count": 89,
   "metadata": {},
   "outputs": [
    {
     "data": {
      "image/png": "[encoded data removed]",
      "text/plain": [
       "<matplotlib.figure.Figure at 0x1b5c1d89a90>"
      ]
     },
     "metadata": {},
     "output_type": "display_data"
    }
   ],
   "source": [
    "plt.figure(2)\n",
    "plt.plot(tspan, rO, 'b', label = 'rO')\n",
    "plt.plot(tspan, rC, 'r', label = 'rC')\n",
    "plt.ylim([0.00, 0.05])\n",
    "plt.legend(loc = 'best')\n",
    "plt.xlabel('time (h)')\n",
    "plt.ylabel('r_i (mol_i/L/h)')\n",
    "plt.savefig('rO2_rCO2.png', dpi = 300)\n",
    "plt.show()"
   ]
  },
  {
   "cell_type": "code",
   "execution_count": 90,
   "metadata": {},
   "outputs": [
    {
     "data": {
      "image/png": "[encoded data removed]",
      "text/plain": [
       "<matplotlib.figure.Figure at 0x1b5c1ad4278>"
      ]
     },
     "metadata": {},
     "output_type": "display_data"
    }
   ],
   "source": [
    "plt.figure(3)\n",
    "plt.plot(tspan, rC, 'r', label = 'rC')\n",
    "# plt.ylim([0.03, 0.032])\n",
    "plt.legend(loc = 'best')\n",
    "plt.show()"
   ]
  },
  {
   "cell_type": "markdown",
   "metadata": {},
   "source": [
    "$\\mu$ is plotted per time unit."
   ]
  },
  {
   "cell_type": "code",
   "execution_count": 91,
   "metadata": {},
   "outputs": [
    {
     "data": {
      "image/png": "[encoded data removed]",
      "text/plain": [
       "<matplotlib.figure.Figure at 0x1b5c1db7358>"
      ]
     },
     "metadata": {},
     "output_type": "display_data"
    }
   ],
   "source": [
    "plt.figure(4)\n",
    "plt.plot(tspan, mu, 'g', label = 'mu')\n",
    "# plt.ylim([0.03, 0.032])\n",
    "plt.legend(loc = 'best')\n",
    "plt.show()"
   ]
  },
  {
   "cell_type": "code",
   "execution_count": 92,
   "metadata": {},
   "outputs": [
    {
     "data": {
      "image/png": "[encoded data removed]",
      "text/plain": [
       "<matplotlib.figure.Figure at 0x1b5c1dd39b0>"
      ]
     },
     "metadata": {},
     "output_type": "display_data"
    }
   ],
   "source": [
    "plt.figure(5)\n",
    "plt.plot(mu, 1/cX, 'g', label = 'cX')\n",
    "# plt.ylim([0.03, 0.032])\n",
    "plt.legend(loc = 'best')\n",
    "plt.show()"
   ]
  },
  {
   "cell_type": "markdown",
   "metadata": {},
   "source": [
    "$r_{O_{2}}$ is plotted as a function of $\\mu$."
   ]
  },
  {
   "cell_type": "code",
   "execution_count": 93,
   "metadata": {},
   "outputs": [
    {
     "data": {
      "image/png": "[encoded data removed]",
      "text/plain": [
       "<matplotlib.figure.Figure at 0x1b5c1e5c358>"
      ]
     },
     "metadata": {},
     "output_type": "display_data"
    }
   ],
   "source": [
    "plt.figure(6)\n",
    "plt.plot(mu, rO, 'g', label = 'rO')\n",
    "# plt.ylim([0.03, 0.032])\n",
    "plt.legend(loc = 'best')\n",
    "plt.show()"
   ]
  },
  {
   "cell_type": "code",
   "execution_count": null,
   "metadata": {
    "collapsed": true
   },
   "outputs": [],
   "source": []
  }
 ],
 "metadata": {
  "kernelspec": {
   "display_name": "Python 3",
   "language": "python",
   "name": "python3"
  },
  "language_info": {
   "codemirror_mode": {
    "name": "ipython",
    "version": 3
   },
   "file_extension": ".py",
   "mimetype": "text/x-python",
   "name": "python",
   "nbconvert_exporter": "python",
   "pygments_lexer": "ipython3",
   "version": "3.6.3"
  }
 },
 "nbformat": 4,
 "nbformat_minor": 2
}
