{
 "cells": [
  {
   "cell_type": "code",
   "execution_count": 1,
   "metadata": {
    "collapsed": true
   },
   "outputs": [],
   "source": [
    "import pandas"
   ]
  },
  {
   "cell_type": "code",
   "execution_count": 2,
   "metadata": {
    "collapsed": true
   },
   "outputs": [],
   "source": [
    "df1 = pandas.read_csv('Aon 1998.csv')\n",
    "df2 = pandas.read_csv('Barford 1979.csv')\n",
    "df3 = pandas.read_csv('Kock 2000.csv')\n",
    "df4 = pandas.read_csv('Krull 2016.csv')\n",
    "df5 = pandas.read_csv('Marc 2013.csv')\n",
    "df6 = pandas.read_csv('Postma 1989.csv')\n",
    "df7 = pandas.read_csv('Thierie 2004.csv')"
   ]
  },
  {
   "cell_type": "code",
   "execution_count": 3,
   "metadata": {
    "collapsed": true
   },
   "outputs": [],
   "source": [
    "writer = pandas.ExcelWriter('Results.xlsx', engine='xlsxwriter')\n",
    "\n",
    "df1.to_excel(writer, sheet_name='Aon 1998')\n",
    "df2.to_excel(writer, sheet_name='Barford 1979')\n",
    "df3.to_excel(writer, sheet_name='Kock 2000')\n",
    "df4.to_excel(writer, sheet_name='Krull 2016')\n",
    "df5.to_excel(writer, sheet_name='Marc 2013')\n",
    "df6.to_excel(writer, sheet_name='Postma 1989')\n",
    "df7.to_excel(writer, sheet_name='Thierie 2004')\n",
    "\n",
    "writer.save()"
   ]
  },
  {
   "cell_type": "code",
   "execution_count": null,
   "metadata": {
    "collapsed": true
   },
   "outputs": [],
   "source": []
  }
 ],
 "metadata": {
  "kernelspec": {
   "display_name": "Python 3",
   "language": "python",
   "name": "python3"
  },
  "language_info": {
   "codemirror_mode": {
    "name": "ipython",
    "version": 3
   },
   "file_extension": ".py",
   "mimetype": "text/x-python",
   "name": "python",
   "nbconvert_exporter": "python",
   "pygments_lexer": "ipython3",
   "version": "3.6.3"
  }
 },
 "nbformat": 4,
 "nbformat_minor": 2
}
