{
 "cells": [
  {
   "cell_type": "markdown",
   "metadata": {},
   "source": [
    "# CBP732 Index"
   ]
  },
  {
   "cell_type": "markdown",
   "metadata": {},
   "source": [
    "[Assignment 1](https://nbviewer.jupyter.org/github/OomNinja/CBP732_Assignments/blob/master/CBP732%20Github/Assignment%201/Assignment%201.ipynb)"
   ]
  },
  {
   "cell_type": "markdown",
   "metadata": {},
   "source": [
    "[Assignment 2](https://nbviewer.jupyter.org/github/OomNinja/CBP732_Assignments/blob/master/CBP732%20Github/Assignment%202/Aspergillus%20niger%20-%20nuwe%20aanslag.ipynb)"
   ]
  },
  {
   "cell_type": "markdown",
   "metadata": {
    "collapsed": true
   },
   "source": [
    "[Assignment 3](https://github.com/OomNinja/CBP732_Assignments/blob/master/CBP732%20Github/Assignment%203/Assignment%203%20report.pdf)"
   ]
  },
  {
   "cell_type": "markdown",
   "metadata": {},
   "source": [
    "[Assignment 4](https://nbviewer.jupyter.org/github/OomNinja/CBP732_Assignments/blob/master/CBP732%20Github/Assignment%204/Saccharomyces%20cerevisiae%20-%20Crabtree.ipynb)"
   ]
  }
 ],
 "metadata": {
  "kernelspec": {
   "display_name": "Python 3",
   "language": "python",
   "name": "python3"
  },
  "language_info": {
   "codemirror_mode": {
    "name": "ipython",
    "version": 3
   },
   "file_extension": ".py",
   "mimetype": "text/x-python",
   "name": "python",
   "nbconvert_exporter": "python",
   "pygments_lexer": "ipython3",
   "version": "3.6.3"
  }
 },
 "nbformat": 4,
 "nbformat_minor": 2
}
