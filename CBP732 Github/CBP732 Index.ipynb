{
 "cells": [
  {
   "cell_type": "markdown",
   "metadata": {},
   "source": [
    "# CBP732 Index"
   ]
  },
  {
   "cell_type": "markdown",
   "metadata": {},
   "source": [
    "[Assignment 1](https://nbviewer.jupyter.org/github/OomNinja/CBP732_Assignments/blob/master/CBP732%20Github/Assignment%201/Assignment%201.ipynb)"
   ]
  },
  {
   "cell_type": "markdown",
   "metadata": {},
   "source": [
    "[Assignment 2](https://nbviewer.jupyter.org/github/OomNinja/CBP732_Assignments/blob/master/CBP732%20Github/Assignment%202/Aspergillus%20niger%204%20%28Correct%20one%29.ipynb)"
   ]
  },
  {
   "cell_type": "markdown",
   "metadata": {
    "collapsed": true
   },
   "source": [
    "[Assignment 3](https://github.com/OomNinja/CBP732_Assignments/blob/master/CBP732%20Github/Assignment%203/Assignment%203%20report.pdf)"
   ]
  },
  {
   "cell_type": "markdown",
   "metadata": {},
   "source": [
    "Assignment 4.\n",
    "\n",
    "Be sure to run all the article notebooks first and then the combination notebook.\n",
    "\n",
    "[Aon 1998](https://nbviewer.jupyter.org/github/OomNinja/CBP732_Assignments/blob/master/CBP732%20Github/Assignment%204/Aon%201998.ipynb)\n",
    "\n",
    "[Barford 1979](https://nbviewer.jupyter.org/github/OomNinja/CBP732_Assignments/blob/master/CBP732%20Github/Assignment%204/Barford%201979.ipynb)\n",
    "\n",
    "[Kock 2000](https://nbviewer.jupyter.org/github/OomNinja/CBP732_Assignments/blob/master/CBP732%20Github/Assignment%204/Kock%202000.ipynb)\n",
    "\n",
    "[Krull 2016](hhttps://nbviewer.jupyter.org/github/OomNinja/CBP732_Assignments/blob/master/CBP732%20Github/Assignment%204/Krull%202016.ipynb)\n",
    "\n",
    "[Marc 2013](https://nbviewer.jupyter.org/github/OomNinja/CBP732_Assignments/blob/master/CBP732%20Github/Assignment%204/Marc%202013.ipynb)\n",
    "\n",
    "[Postma 1989](https://nbviewer.jupyter.org/github/OomNinja/CBP732_Assignments/blob/master/CBP732%20Github/Assignment%204/Postma%201989.ipynb)\n",
    "\n",
    "[Thierie 2004](https://nbviewer.jupyter.org/github/OomNinja/CBP732_Assignments/blob/master/CBP732%20Github/Assignment%204/Thierie%202004.ipynb)\n",
    "\n",
    "[Combination](https://nbviewer.jupyter.org/github/OomNinja/CBP732_Assignments/blob/master/CBP732%20Github/Assignment%204/Combination.ipynb)"
   ]
  },
  {
   "cell_type": "code",
   "execution_count": null,
   "metadata": {
    "collapsed": true
   },
   "outputs": [],
   "source": []
  }
 ],
 "metadata": {
  "kernelspec": {
   "display_name": "Python 3",
   "language": "python",
   "name": "python3"
  },
  "language_info": {
   "codemirror_mode": {
    "name": "ipython",
    "version": 3
   },
   "file_extension": ".py",
   "mimetype": "text/x-python",
   "name": "python",
   "nbconvert_exporter": "python",
   "pygments_lexer": "ipython3",
   "version": "3.6.3"
  }
 },
 "nbformat": 4,
 "nbformat_minor": 2
}
