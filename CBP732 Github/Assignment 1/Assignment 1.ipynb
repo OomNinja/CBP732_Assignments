{
 "cells": [
  {
   "cell_type": "markdown",
   "metadata": {},
   "source": [
    "# Assignment 1: Crabtree effect in $S. cerevisiae$\n",
    "\n",
    "The Crabtree effect is an anomaly that occurs in various microbes, including the yeast Saccharomyces cerevisiae. In baker's yeast, it is characterized by cells using both oxidative and substrate level phosphorilation simultaneously to generate energy, in spite of having excess O2 at their disposal for full oxidative phosphorilation.\n",
    "\n",
    "Von Meyerenburg (1969) did a study on this effect and his data is used as a base (or reference) case.\n",
    "\n",
    "An exploritory analysis is done on the energy usage by yeast, while in the Crabtree metabolic regime.\n",
    "\n",
    "The metaboic flux diagram of yeast is provided below."
   ]
  },
  {
   "cell_type": "markdown",
   "metadata": {},
   "source": [
    "<img src=\"Metabolism.png\" width=\"500\" />"
   ]
  },
  {
   "cell_type": "markdown",
   "metadata": {},
   "source": [
    "Experimental data was obtained."
   ]
  },
  {
   "cell_type": "markdown",
   "metadata": {},
   "source": [
    "<img src=\"Experimental.png\" width=\"800\" />"
   ]
  },
  {
   "cell_type": "markdown",
   "metadata": {},
   "source": [
    "Import all necessary libraries."
   ]
  },
  {
   "cell_type": "code",
   "execution_count": 2,
   "metadata": {
    "collapsed": true
   },
   "outputs": [],
   "source": [
    "import numpy as np\n",
    "from scipy.optimize import fsolve\n",
    "from scipy.integrate import odeint\n",
    "from matplotlib import pyplot as plt\n",
    "%matplotlib inline"
   ]
  },
  {
   "cell_type": "markdown",
   "metadata": {},
   "source": [
    "Determine $\\beta$ from the $\\alpha$ value given via a redox balance."
   ]
  },
  {
   "cell_type": "code",
   "execution_count": 3,
   "metadata": {
    "collapsed": true
   },
   "outputs": [],
   "source": [
    "alpha = 0.1\n",
    "def beta(beta):\n",
    "    nul1 = (1 + alpha)*4 - ((4 + 1*1.8 - 2*0.5 - 3*0.2) + 2*beta)\n",
    "    return nul1\n",
    "beta = fsolve(beta, alpha)[0]"
   ]
  },
  {
   "cell_type": "markdown",
   "metadata": {},
   "source": [
    "List all known and assumed values and conditions."
   ]
  },
  {
   "cell_type": "code",
   "execution_count": 4,
   "metadata": {
    "collapsed": true
   },
   "outputs": [],
   "source": [
    "D = np.array([0.05, 0.1, 0.15, 0.2, 0.243, 0.253, 0.27, 0.29, 0.31, 0.33, 0.35, 0.37, 0.39, 0.41, 0.43, 0.45])\n",
    "cX = np.array([13.66, 13.77, 13.89, 14.00, 14.09, 12.06, 9.50, 7.78, 6.78, 6.09, 5.52, 5.02, 4.62, 4.31, 4.04, 3.53])/24.6\n",
    "theta = 0\n",
    "rO2mass = np.array([2.1218, 3.5981, 5.0744, 6.5507, 7.820318, 7.921735, 7.41165, 6.81155, 6.21145, 5.61135, 5.01125, 4.41115, 3.81105, 3.21095, 2.61085, 2.01075]) #mm/g/h\n",
    "rCO2mass = np.array([2.1218, 3.5981, 5.0744, 6.5507, 7.820318, 8.08734, 10.1916, 12.6672, 15.1428, 17.6184, 20.094, 22.5696, 25.0452, 27.5208, 29.9964, 32.472]) #mm/g/h\n",
    "rO2 = rO2mass/1000*24.6 #mol/cmol X/h\n",
    "rCO2 = rCO2mass/1000*24.6 #mol/cmol X/h\n",
    "\n",
    "PO = 1.5"
   ]
  },
  {
   "cell_type": "markdown",
   "metadata": {},
   "source": [
    "Set up metabolic flux model. Solve for the ATP produced ($\\gamma$, as $\\theta$ = 0) for each value of c$_X$ and D."
   ]
  },
  {
   "cell_type": "code",
   "execution_count": 5,
   "metadata": {
    "collapsed": true
   },
   "outputs": [],
   "source": [
    "gammalist = []\n",
    "thetalist = []\n",
    "for i in range(0, len(D)):\n",
    "    def energy(var):\n",
    "        gamma = var\n",
    "        mu = D[i]\n",
    "        S = np.matrix([[-1, 1 + alpha, 1,   1,    0,    0,   0],\n",
    "                       [0,  0,         0,   -1,   1,    3/2, 0],\n",
    "                       [0,  beta,      2,   0,    -1/3, 0,   -2],\n",
    "                       [0,  -gamma,    2/3, -1/3, 0,    1,   2*PO],\n",
    "                       [0,  1,         0,   0,    0,    0,   0],\n",
    "                       [0,  0,         0,   0,    0,    0,   1],\n",
    "                       [0,  alpha,     1,   0,    0,    1/2, 0]])\n",
    "\n",
    "        C = np.array([0, 0, 0, theta, mu, rO2[i], rCO2[i]]).T\n",
    "        r = np.linalg.solve(S, C) \n",
    "\n",
    "        rXS = r[0]\n",
    "        rXX = mu\n",
    "        rXG = r[4]\n",
    "        rXE = r[5]\n",
    "        rXCO2 = alpha*r[1] + r[2] + 1/2*r[5]\n",
    "        rXO2 = r[6]\n",
    "        \n",
    "        rVX = rXX*cX[i]\n",
    "        rVS = rXS*cX[i]\n",
    "        rVO = rXO2*cX[i]\n",
    "        rVSresp = rVO\n",
    "        rVATP1 = 3.5*rVSresp\n",
    "        rVSferm = rVS - rVSresp\n",
    "        rVATP2 = 1/3*rVSferm\n",
    "        rVATP = rVATP1 + rVATP2\n",
    "\n",
    "        nul1 = gamma - rVATP/rVX\n",
    "        return nul1\n",
    "    opl = fsolve(energy, 1.8)\n",
    "    gamma = opl[0]\n",
    "    gammalist.append(gamma)"
   ]
  },
  {
   "cell_type": "markdown",
   "metadata": {},
   "source": [
    "Plot the volumetric ATP production vs. time."
   ]
  },
  {
   "cell_type": "code",
   "execution_count": 6,
   "metadata": {},
   "outputs": [
    {
     "data": {
      "image/png": "[encoded data removed]",
      "text/plain": [
       "<matplotlib.figure.Figure at 0x19122ce8da0>"
      ]
     },
     "metadata": {},
     "output_type": "display_data"
    }
   ],
   "source": [
    "gammalist = np.array(gammalist)\n",
    "\n",
    "plt.figure(0)\n",
    "plt.xlabel('D (1/h)')\n",
    "plt.ylabel('rATP (mol ATP/l/h)')\n",
    "plt.plot(D, gammalist*D, '*')\n",
    "plt.savefig('rVATP vs D.png', dpi = 300)\n",
    "plt.show()"
   ]
  },
  {
   "cell_type": "markdown",
   "metadata": {},
   "source": [
    "Plot the biomass based ATP production vs. time."
   ]
  },
  {
   "cell_type": "code",
   "execution_count": 8,
   "metadata": {},
   "outputs": [
    {
     "data": {
      "image/png": "[encoded data removed]",
      "text/plain": [
       "<matplotlib.figure.Figure at 0x19122ce8ba8>"
      ]
     },
     "metadata": {},
     "output_type": "display_data"
    }
   ],
   "source": [
    "plt.figure(0)\n",
    "plt.xlabel('D (1/h)')\n",
    "plt.ylabel('rATP (mol ATP/g/h)')\n",
    "plt.plot(D, gammalist*D/cX, '*')\n",
    "plt.savefig('rXATP vs D.png', dpi = 300)\n",
    "plt.show()"
   ]
  },
  {
   "cell_type": "markdown",
   "metadata": {
    "collapsed": true
   },
   "source": [
    "A distinct regime change was observed regarding the energy metabolism. More data sets will be obtained, analysed and discussed in Assignment 4."
   ]
  },
  {
   "cell_type": "code",
   "execution_count": null,
   "metadata": {
    "collapsed": true
   },
   "outputs": [],
   "source": []
  }
 ],
 "metadata": {
  "kernelspec": {
   "display_name": "Python 3",
   "language": "python",
   "name": "python3"
  },
  "language_info": {
   "codemirror_mode": {
    "name": "ipython",
    "version": 3
   },
   "file_extension": ".py",
   "mimetype": "text/x-python",
   "name": "python",
   "nbconvert_exporter": "python",
   "pygments_lexer": "ipython3",
   "version": "3.6.3"
  }
 },
 "nbformat": 4,
 "nbformat_minor": 2
}
